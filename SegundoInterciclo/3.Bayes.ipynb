{
 "cells": [
  {
   "cell_type": "markdown",
   "metadata": {},
   "source": [
    "<img src=\"https://www.pequeciencia.ups.edu.ec/imgcontenidos/2-3_Logo%20UPS.png\" width=\"400\"   height=\"341\">\n",
    "<H1 align=\"center\"> DEBER</H1>\n",
    "<H1 align=\"center\">Alumno: Juan Canar U</H1>\n",
    "<H1 align=\"center\">Docente: Diego Quisi</H1>\n",
    "<H1 align=\"center\"> TEOREMA DE BAYES</H1>"
   ]
  },
  {
   "cell_type": "markdown",
   "metadata": {},
   "source": [
    "### Ejercicio\n",
    "* Se tiene dos cajas de bolígrafos. La primera contiene 23\n",
    "    bolígrafos azules y 17 rojos, y la segunda contiene 18 azules y\n",
    "    5 rojos. Calcular lo siguiente:\n",
    "* a) ¿Cuál es la probabilidad de obtener un bolígrafo azul?\n",
    "* b) Si el bolígrafo que se obtuvo es rojo, ¿Cuál es la probabilidad\n",
    "    de que haya sido obtenido de la caja 2?"
   ]
  },
  {
   "cell_type": "markdown",
   "metadata": {},
   "source": [
    "<img src=\"https://github.com/jcuyaguari/SistemasExpertos/blob/master/SegundoInterciclo/boligrafos.jpeg?raw=true\" width=\"700\"   height=\"741\">"
   ]
  },
  {
   "cell_type": "markdown",
   "metadata": {},
   "source": [
    "##### 1. Analizar las siguientes herramientas on-line para realizar el cálculo de la Regla de Bayes, aplicar un cálculo y realizar la captura de pantalla de los valores obtenidos:\n",
    "- http://stattrek.com/online-calculator/bayes-rule-calculator.aspx\n",
    "- http://www.ugr.es/~jsalinas/bayes.htm\n",
    "2. Analizar y ejecutar el código para calcular la regla de Bayes usando\n",
    "Python como lenguaje de desarrollo. Puede emplear como guía el siguiente\n",
    "tutorial:\n",
    "- https://learnbayes.wordpress.com/2011/08/28/bayes-rule-in-r/"
   ]
  },
  {
   "cell_type": "markdown",
   "metadata": {},
   "source": [
    "------\n",
    "### La policía planea hacer respetar los límites de velocidad usando un sistema de radar en 4 diferentes puntos a las orillas de la ciudad. Las trampas de radar en cada uno de los sitios L1, L2, L3 y L4 operarán 40%, 30 %, 20% y 30% del tiempo. Si una persona que excede el límite de velocidad cuando va a su trabajo tiene probabilidades de 0.2, 0.1, 0.5 y 0.2, respectivamente, de pasar por esos lugares, ¿cuál es la probabilidad de que reciba una multa por conducir con exceso de velocidad? "
   ]
  },
  {
   "cell_type": "markdown",
   "metadata": {},
   "source": [
    "### Formula \n",
    "<img align=\"right\" src=\"https://www.platon.it/episteme/wp-content/uploads/2018/04/teorema-di-bayes.gif\" width=\"400\"   height=\"141\">\n",
    "\n",
    "#### P (A)son las probabilidades a priori<br>\n",
    "#### P (B|A) es la probabilidad de B en la hipótesis Ai <br>\n",
    "#### P (A|B) son las probabilidades a posteriori.<br>"
   ]
  },
  {
   "cell_type": "markdown",
   "metadata": {},
   "source": [
    "### Desarrollo a mano:\n",
    "<img align=\"center\" src=\"https://github.com/jcuyaguari/SistemasExpertos/blob/master/SegundoInterciclo/ejercicio.png?raw=true\" width=\"670\"   height=\"441\">\n"
   ]
  },
  {
   "attachments": {},
   "cell_type": "markdown",
   "metadata": {},
   "source": [
    "### Pruebas en la calculadora: \n",
    "##### - http://www.ugr.es/~jsalinas/bayes.htm\n",
    "\n",
    "<img align=\"center\" src=\"https://github.com/jcuyaguari/SistemasExpertos/blob/master/SegundoInterciclo/ugr.png?raw=true\" width=\"500\"   height=\"341\">\n",
    "\n",
    "##### - http://stattrek.com/online-calculator/bayes-rule-calculator.aspx\n",
    "\n",
    "<img align=\"center\" src=\"https://github.com/jcuyaguari/SistemasExpertos/blob/master/SegundoInterciclo/stattrek.PNG?raw=true\" width=\"500\"   height=\"341\">"
   ]
  },
  {
   "cell_type": "markdown",
   "metadata": {},
   "source": [
    "#### Analizar y ejecutar el código para calcular la regla de Bayes usando Python como lenguaje de desarrollo."
   ]
  },
  {
   "cell_type": "code",
   "execution_count": 32,
   "metadata": {},
   "outputs": [
    {
     "name": "stdout",
     "output_type": "stream",
     "text": [
      "ingrese --> P(A) Introduzca un numero decimal \n",
      "> 0.3\n",
      "ingrese --> P(B|A) Introduzca un numero decimal \n",
      "> 0.2\n",
      "ingrese --> P(B|NA) Introduzca un numero decimal \n",
      "> 0.5\n",
      "      __Calculando P(B|A)__      \n",
      "\n",
      " Respuesta es: P(B|A) = 0.14634146341463414 %\n"
     ]
    }
   ],
   "source": [
    "def CalculadoraBayes(primeroval, segundoval, tercerval):\n",
    "    res =(primeroval+segundoval+tercerval)\n",
    "    if res==1:\n",
    "        valor = 1 - primeroval\n",
    "        oper = (segundoval * primeroval) +(tercerval * valor)\n",
    "        resp = (segundoval * primeroval) / oper\n",
    "        return resp\n",
    "    elif res != 1:\n",
    "          print(\"Ingrese nuevamente sus datos\")\n",
    "    \n",
    "primeroval = float(input('ingrese --> P(A) Introduzca un numero decimal \\n> '))\n",
    "\n",
    "segundoval = float(input('ingrese --> P(B|A) Introduzca un numero decimal \\n> '))\n",
    "\n",
    "tercerval = float(input('ingrese --> P(B|NA) Introduzca un numero decimal \\n> '))\n",
    "\n",
    "total = CalculadoraBayes(primeroval, segundoval, tercerval)\n",
    "print('      __Calculando P(B|A)__      ')\n",
    "print('\\n Respuesta es: P(B|A) =',(total),\"%\")"
   ]
  }
 ],
 "metadata": {
  "kernelspec": {
   "display_name": "Python 3",
   "language": "python",
   "name": "python3"
  },
  "language_info": {
   "codemirror_mode": {
    "name": "ipython",
    "version": 3
   },
   "file_extension": ".py",
   "mimetype": "text/x-python",
   "name": "python",
   "nbconvert_exporter": "python",
   "pygments_lexer": "ipython3",
   "version": "3.7.6"
  }
 },
 "nbformat": 4,
 "nbformat_minor": 4
}
